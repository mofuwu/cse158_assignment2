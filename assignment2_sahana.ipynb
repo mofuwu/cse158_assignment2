{
 "cells": [
  {
   "cell_type": "code",
   "execution_count": 171,
   "id": "fb51a809-b404-4b4d-be1e-33540bb88f98",
   "metadata": {},
   "outputs": [],
   "source": [
    "import gzip\n",
    "import math\n",
    "import numpy as np\n",
    "import string\n",
    "import pandas as pd\n",
    "import json\n",
    "import matplotlib.pyplot as plt"
   ]
  },
  {
   "cell_type": "code",
   "execution_count": 172,
   "id": "02b67d31-6154-49dd-b422-e347e3e62b48",
   "metadata": {},
   "outputs": [],
   "source": [
    "f = gzip.open(\"runway.json.gz\")\n",
    "dataset = []\n",
    "for l in f:\n",
    "    dataset.append(json.loads(l))"
   ]
  },
  {
   "cell_type": "code",
   "execution_count": 173,
   "id": "f800e311-038e-41a1-a6d7-0894864fee00",
   "metadata": {},
   "outputs": [],
   "source": [
    "# loading and processing dataset\n",
    "\n",
    "df = pd.DataFrame(dataset)\n",
    "\n",
    "# dropping all rows with null values\n",
    "\n",
    "df = df.dropna()\n",
    "\n",
    "# converting necessary columns to numeric format\n",
    "\n",
    "df['weight'] = pd.to_numeric(df['weight'].str.split('lbs').str[0])\n",
    "df['age'] = pd.to_numeric(df['age'])\n",
    "df['rating'] = pd.to_numeric(df['rating'])\n",
    "df['size'] = pd.to_numeric(df['size'])\n",
    "\n",
    "# for example, 5 ft 8 inches will be represented as 5.08, 5'11\" will be 5.11\n",
    "\n",
    "height_feet = pd.to_numeric(df['height'].str.split(\"'\").str[0])\n",
    "ser = df['height'].str.split().str[1]\n",
    "height_inches = pd.to_numeric(ser.str.split('\"').str[0])\n",
    "df['height'] = height_feet + (height_inches / 100)\n",
    "\n",
    "# drop user id, item id, review date\n",
    "\n",
    "df = df.drop(columns = ['user_id', 'item_id', 'review_date'])"
   ]
  },
  {
   "cell_type": "code",
   "execution_count": 181,
   "id": "43778f22-344c-406a-961b-d1e6e326aaf0",
   "metadata": {},
   "outputs": [
    {
     "data": {
      "text/html": [
       "<div>\n",
       "<style scoped>\n",
       "    .dataframe tbody tr th:only-of-type {\n",
       "        vertical-align: middle;\n",
       "    }\n",
       "\n",
       "    .dataframe tbody tr th {\n",
       "        vertical-align: top;\n",
       "    }\n",
       "\n",
       "    .dataframe thead th {\n",
       "        text-align: right;\n",
       "    }\n",
       "</style>\n",
       "<table border=\"1\" class=\"dataframe\">\n",
       "  <thead>\n",
       "    <tr style=\"text-align: right;\">\n",
       "      <th></th>\n",
       "      <th>fit</th>\n",
       "      <th>bust size</th>\n",
       "      <th>weight</th>\n",
       "      <th>rating</th>\n",
       "      <th>rented for</th>\n",
       "      <th>review_text</th>\n",
       "      <th>body type</th>\n",
       "      <th>review_summary</th>\n",
       "      <th>category</th>\n",
       "      <th>height</th>\n",
       "      <th>size</th>\n",
       "      <th>age</th>\n",
       "    </tr>\n",
       "  </thead>\n",
       "  <tbody>\n",
       "    <tr>\n",
       "      <th>0</th>\n",
       "      <td>fit</td>\n",
       "      <td>34d</td>\n",
       "      <td>137</td>\n",
       "      <td>10</td>\n",
       "      <td>vacation</td>\n",
       "      <td>An adorable romper! Belt and zipper were a lit...</td>\n",
       "      <td>hourglass</td>\n",
       "      <td>So many compliments!</td>\n",
       "      <td>romper</td>\n",
       "      <td>5.08</td>\n",
       "      <td>14</td>\n",
       "      <td>28</td>\n",
       "    </tr>\n",
       "    <tr>\n",
       "      <th>1</th>\n",
       "      <td>fit</td>\n",
       "      <td>34b</td>\n",
       "      <td>132</td>\n",
       "      <td>10</td>\n",
       "      <td>other</td>\n",
       "      <td>I rented this dress for a photo shoot. The the...</td>\n",
       "      <td>straight &amp; narrow</td>\n",
       "      <td>I felt so glamourous!!!</td>\n",
       "      <td>gown</td>\n",
       "      <td>5.06</td>\n",
       "      <td>12</td>\n",
       "      <td>36</td>\n",
       "    </tr>\n",
       "    <tr>\n",
       "      <th>3</th>\n",
       "      <td>fit</td>\n",
       "      <td>34c</td>\n",
       "      <td>135</td>\n",
       "      <td>8</td>\n",
       "      <td>formal affair</td>\n",
       "      <td>I rented this for my company's black tie award...</td>\n",
       "      <td>pear</td>\n",
       "      <td>Dress arrived on time and in perfect condition.</td>\n",
       "      <td>dress</td>\n",
       "      <td>5.05</td>\n",
       "      <td>8</td>\n",
       "      <td>34</td>\n",
       "    </tr>\n",
       "    <tr>\n",
       "      <th>4</th>\n",
       "      <td>fit</td>\n",
       "      <td>34b</td>\n",
       "      <td>145</td>\n",
       "      <td>10</td>\n",
       "      <td>wedding</td>\n",
       "      <td>I have always been petite in my upper body and...</td>\n",
       "      <td>athletic</td>\n",
       "      <td>Was in love with this dress !!!</td>\n",
       "      <td>gown</td>\n",
       "      <td>5.09</td>\n",
       "      <td>12</td>\n",
       "      <td>27</td>\n",
       "    </tr>\n",
       "    <tr>\n",
       "      <th>5</th>\n",
       "      <td>fit</td>\n",
       "      <td>32b</td>\n",
       "      <td>138</td>\n",
       "      <td>8</td>\n",
       "      <td>date</td>\n",
       "      <td>Didn't actually wear it. It fit perfectly. The...</td>\n",
       "      <td>athletic</td>\n",
       "      <td>Traditional with a touch a sass</td>\n",
       "      <td>dress</td>\n",
       "      <td>5.08</td>\n",
       "      <td>8</td>\n",
       "      <td>45</td>\n",
       "    </tr>\n",
       "    <tr>\n",
       "      <th>...</th>\n",
       "      <td>...</td>\n",
       "      <td>...</td>\n",
       "      <td>...</td>\n",
       "      <td>...</td>\n",
       "      <td>...</td>\n",
       "      <td>...</td>\n",
       "      <td>...</td>\n",
       "      <td>...</td>\n",
       "      <td>...</td>\n",
       "      <td>...</td>\n",
       "      <td>...</td>\n",
       "      <td>...</td>\n",
       "    </tr>\n",
       "    <tr>\n",
       "      <th>192539</th>\n",
       "      <td>fit</td>\n",
       "      <td>34dd</td>\n",
       "      <td>140</td>\n",
       "      <td>10</td>\n",
       "      <td>work</td>\n",
       "      <td>Fit like a glove!</td>\n",
       "      <td>hourglass</td>\n",
       "      <td>LOVE IT!!! First Item Im thinking of buying!</td>\n",
       "      <td>jumpsuit</td>\n",
       "      <td>5.09</td>\n",
       "      <td>8</td>\n",
       "      <td>42</td>\n",
       "    </tr>\n",
       "    <tr>\n",
       "      <th>192540</th>\n",
       "      <td>fit</td>\n",
       "      <td>32c</td>\n",
       "      <td>100</td>\n",
       "      <td>10</td>\n",
       "      <td>work</td>\n",
       "      <td>The pattern contrast on this dress is really s...</td>\n",
       "      <td>petite</td>\n",
       "      <td>LOVE it!</td>\n",
       "      <td>dress</td>\n",
       "      <td>5.01</td>\n",
       "      <td>4</td>\n",
       "      <td>29</td>\n",
       "    </tr>\n",
       "    <tr>\n",
       "      <th>192541</th>\n",
       "      <td>fit</td>\n",
       "      <td>36a</td>\n",
       "      <td>135</td>\n",
       "      <td>6</td>\n",
       "      <td>everyday</td>\n",
       "      <td>Like the other DVF wraps, the fit on this is f...</td>\n",
       "      <td>straight &amp; narrow</td>\n",
       "      <td>Loud patterning, flattering fit</td>\n",
       "      <td>dress</td>\n",
       "      <td>5.08</td>\n",
       "      <td>8</td>\n",
       "      <td>31</td>\n",
       "    </tr>\n",
       "    <tr>\n",
       "      <th>192542</th>\n",
       "      <td>fit</td>\n",
       "      <td>36c</td>\n",
       "      <td>165</td>\n",
       "      <td>10</td>\n",
       "      <td>wedding</td>\n",
       "      <td>This dress was PERFECTION.  it looked incredib...</td>\n",
       "      <td>pear</td>\n",
       "      <td>loved this dress it was comfortable and photog...</td>\n",
       "      <td>dress</td>\n",
       "      <td>5.06</td>\n",
       "      <td>16</td>\n",
       "      <td>31</td>\n",
       "    </tr>\n",
       "    <tr>\n",
       "      <th>192543</th>\n",
       "      <td>fit</td>\n",
       "      <td>36b</td>\n",
       "      <td>155</td>\n",
       "      <td>10</td>\n",
       "      <td>wedding</td>\n",
       "      <td>This dress was wonderful! I had originally pla...</td>\n",
       "      <td>athletic</td>\n",
       "      <td>I wore this to a beautiful black tie optional ...</td>\n",
       "      <td>gown</td>\n",
       "      <td>5.06</td>\n",
       "      <td>16</td>\n",
       "      <td>30</td>\n",
       "    </tr>\n",
       "  </tbody>\n",
       "</table>\n",
       "<p>146381 rows × 12 columns</p>\n",
       "</div>"
      ],
      "text/plain": [
       "        fit bust size  weight  rating     rented for  \\\n",
       "0       fit       34d     137      10       vacation   \n",
       "1       fit       34b     132      10          other   \n",
       "3       fit       34c     135       8  formal affair   \n",
       "4       fit       34b     145      10        wedding   \n",
       "5       fit       32b     138       8           date   \n",
       "...     ...       ...     ...     ...            ...   \n",
       "192539  fit      34dd     140      10           work   \n",
       "192540  fit       32c     100      10           work   \n",
       "192541  fit       36a     135       6       everyday   \n",
       "192542  fit       36c     165      10        wedding   \n",
       "192543  fit       36b     155      10        wedding   \n",
       "\n",
       "                                              review_text          body type  \\\n",
       "0       An adorable romper! Belt and zipper were a lit...          hourglass   \n",
       "1       I rented this dress for a photo shoot. The the...  straight & narrow   \n",
       "3       I rented this for my company's black tie award...               pear   \n",
       "4       I have always been petite in my upper body and...           athletic   \n",
       "5       Didn't actually wear it. It fit perfectly. The...           athletic   \n",
       "...                                                   ...                ...   \n",
       "192539                                  Fit like a glove!          hourglass   \n",
       "192540  The pattern contrast on this dress is really s...             petite   \n",
       "192541  Like the other DVF wraps, the fit on this is f...  straight & narrow   \n",
       "192542  This dress was PERFECTION.  it looked incredib...               pear   \n",
       "192543  This dress was wonderful! I had originally pla...           athletic   \n",
       "\n",
       "                                           review_summary  category  height  \\\n",
       "0                                    So many compliments!    romper    5.08   \n",
       "1                                 I felt so glamourous!!!      gown    5.06   \n",
       "3        Dress arrived on time and in perfect condition.      dress    5.05   \n",
       "4                         Was in love with this dress !!!      gown    5.09   \n",
       "5                         Traditional with a touch a sass     dress    5.08   \n",
       "...                                                   ...       ...     ...   \n",
       "192539       LOVE IT!!! First Item Im thinking of buying!  jumpsuit    5.09   \n",
       "192540                                           LOVE it!     dress    5.01   \n",
       "192541                    Loud patterning, flattering fit     dress    5.08   \n",
       "192542  loved this dress it was comfortable and photog...     dress    5.06   \n",
       "192543  I wore this to a beautiful black tie optional ...      gown    5.06   \n",
       "\n",
       "        size  age  \n",
       "0         14   28  \n",
       "1         12   36  \n",
       "3          8   34  \n",
       "4         12   27  \n",
       "5          8   45  \n",
       "...      ...  ...  \n",
       "192539     8   42  \n",
       "192540     4   29  \n",
       "192541     8   31  \n",
       "192542    16   31  \n",
       "192543    16   30  \n",
       "\n",
       "[146381 rows x 12 columns]"
      ]
     },
     "execution_count": 181,
     "metadata": {},
     "output_type": "execute_result"
    }
   ],
   "source": [
    "df"
   ]
  },
  {
   "cell_type": "code",
   "execution_count": 174,
   "id": "21be2963-27de-43c4-892b-8ec968c87493",
   "metadata": {},
   "outputs": [
    {
     "data": {
      "text/plain": [
       "(array([  783.,     0.,  2205.,     0.,     0.,  8341.,     0., 40761.,\n",
       "            0., 94291.]),\n",
       " array([ 2. ,  2.8,  3.6,  4.4,  5.2,  6. ,  6.8,  7.6,  8.4,  9.2, 10. ]),\n",
       " <BarContainer object of 10 artists>)"
      ]
     },
     "execution_count": 174,
     "metadata": {},
     "output_type": "execute_result"
    },
    {
     "data": {
      "image/png": "[encoded data removed]",
      "text/plain": [
       "<Figure size 640x480 with 1 Axes>"
      ]
     },
     "metadata": {},
     "output_type": "display_data"
    }
   ],
   "source": [
    "plt.hist(df['rating'])"
   ]
  },
  {
   "cell_type": "code",
   "execution_count": 175,
   "id": "9af497ba-95e9-4ae3-b77d-9f20cf04061c",
   "metadata": {},
   "outputs": [
    {
     "data": {
      "text/plain": [
       "(array([6.0000e+00, 0.0000e+00, 1.0000e+00, 4.0000e+00, 7.0000e+01,\n",
       "        5.7300e+02, 5.5080e+03, 1.4280e+04, 1.7233e+04, 3.2627e+04,\n",
       "        2.7864e+04, 1.2068e+04, 1.4714e+04, 9.0910e+03, 3.3670e+03,\n",
       "        3.8200e+03, 2.0150e+03, 5.3800e+02, 9.7200e+02, 5.7300e+02,\n",
       "        3.4700e+02, 2.5400e+02, 1.8800e+02, 3.4000e+01, 1.3300e+02,\n",
       "        5.7000e+01, 1.5000e+01, 1.6000e+01, 1.1000e+01, 2.0000e+00]),\n",
       " array([ 50.        ,  58.33333333,  66.66666667,  75.        ,\n",
       "         83.33333333,  91.66666667, 100.        , 108.33333333,\n",
       "        116.66666667, 125.        , 133.33333333, 141.66666667,\n",
       "        150.        , 158.33333333, 166.66666667, 175.        ,\n",
       "        183.33333333, 191.66666667, 200.        , 208.33333333,\n",
       "        216.66666667, 225.        , 233.33333333, 241.66666667,\n",
       "        250.        , 258.33333333, 266.66666667, 275.        ,\n",
       "        283.33333333, 291.66666667, 300.        ]),\n",
       " <BarContainer object of 30 artists>)"
      ]
     },
     "execution_count": 175,
     "metadata": {},
     "output_type": "execute_result"
    },
    {
     "data": {
      "image/png": "[encoded data removed]",
      "text/plain": [
       "<Figure size 640x480 with 1 Axes>"
      ]
     },
     "metadata": {},
     "output_type": "display_data"
    }
   ],
   "source": [
    "plt.hist(df['weight'], bins = 30)"
   ]
  },
  {
   "cell_type": "code",
   "execution_count": 176,
   "id": "d0bd0509-1f9f-4113-8d27-de92a9d34139",
   "metadata": {},
   "outputs": [
    {
     "data": {
      "text/plain": [
       "array(['hourglass', 'straight & narrow', 'pear', 'athletic', 'full bust',\n",
       "       'petite', 'apple'], dtype=object)"
      ]
     },
     "execution_count": 176,
     "metadata": {},
     "output_type": "execute_result"
    }
   ],
   "source": [
    "df['body type'].unique()"
   ]
  },
  {
   "cell_type": "code",
   "execution_count": 177,
   "id": "5e36b9b3-4925-42ee-ba4c-8e3a155df06c",
   "metadata": {},
   "outputs": [
    {
     "data": {
      "text/plain": [
       "array(['romper', 'gown', 'dress', 'sheath', 'leggings', 'sweater',\n",
       "       'jacket', 'shirtdress', 'jumpsuit', 'shift', 'top', 'shirt',\n",
       "       'mini', 'skirt', 'maxi', 'pants', 'suit', 'coat', 'blouse',\n",
       "       'trench', 'cape', 'bomber', 'blazer', 'vest', 'duster', 'ballgown',\n",
       "       'tank', 'poncho', 'frock', 'tunic', 'cardigan', 'down', 'culottes',\n",
       "       'midi', 'legging', 'print', 'pant', 'knit', 'culotte',\n",
       "       'sweatshirt', 'peacoat', 'trouser', 'kaftan', 'overalls', 'jogger',\n",
       "       'tee', 'combo', 'henley', 'blouson', 'pullover', 'turtleneck',\n",
       "       'trousers', 'overcoat', 'hoodie', 't-shirt', 'caftan', 'tight',\n",
       "       'kimono', 'cami', 'for', 'crewneck', 'skirts', 'parka',\n",
       "       'buttondown', 'skort', 'sweatershirt', 'jeans', 'sweatpants'],\n",
       "      dtype=object)"
      ]
     },
     "execution_count": 177,
     "metadata": {},
     "output_type": "execute_result"
    }
   ],
   "source": [
    "df['category'].unique()"
   ]
  },
  {
   "cell_type": "code",
   "execution_count": 178,
   "id": "8178df1f-61f3-4f2d-92a7-6057980b9005",
   "metadata": {},
   "outputs": [
    {
     "data": {
      "text/plain": [
       "(array([4.1000e+01, 0.0000e+00, 1.5500e+02, 5.4000e+03, 3.7469e+04,\n",
       "        5.5771e+04, 2.2557e+04, 1.2347e+04, 7.0840e+03, 3.7580e+03,\n",
       "        1.2970e+03, 3.8700e+02, 4.2000e+01, 4.0000e+00, 4.0000e+00,\n",
       "        1.8000e+01, 3.0000e+00, 1.0000e+00, 1.0000e+00, 4.2000e+01]),\n",
       " array([  0.  ,   5.85,  11.7 ,  17.55,  23.4 ,  29.25,  35.1 ,  40.95,\n",
       "         46.8 ,  52.65,  58.5 ,  64.35,  70.2 ,  76.05,  81.9 ,  87.75,\n",
       "         93.6 ,  99.45, 105.3 , 111.15, 117.  ]),\n",
       " <BarContainer object of 20 artists>)"
      ]
     },
     "execution_count": 178,
     "metadata": {},
     "output_type": "execute_result"
    },
    {
     "data": {
      "image/png": "[encoded data removed]",
      "text/plain": [
       "<Figure size 640x480 with 1 Axes>"
      ]
     },
     "metadata": {},
     "output_type": "display_data"
    }
   ],
   "source": [
    "plt.hist(df['age'], bins = 20)"
   ]
  },
  {
   "cell_type": "code",
   "execution_count": 179,
   "id": "3529bd8a-481a-46eb-b4f5-ccc42f34f022",
   "metadata": {},
   "outputs": [
    {
     "data": {
      "text/plain": [
       "(array([ 1029.,     0.,     0.,     0., 78105., 65859.,     0.,     0.,\n",
       "            0.,  1388.]),\n",
       " array([4.06, 4.26, 4.46, 4.66, 4.86, 5.06, 5.26, 5.46, 5.66, 5.86, 6.06]),\n",
       " <BarContainer object of 10 artists>)"
      ]
     },
     "execution_count": 179,
     "metadata": {},
     "output_type": "execute_result"
    },
    {
     "data": {
      "image/png": "[encoded data removed]",
      "text/plain": [
       "<Figure size 640x480 with 1 Axes>"
      ]
     },
     "metadata": {},
     "output_type": "display_data"
    }
   ],
   "source": [
    "plt.hist(df['height'])"
   ]
  },
  {
   "cell_type": "code",
   "execution_count": 180,
   "id": "82f06b34-6d71-4e9b-a35f-545166e61fd2",
   "metadata": {},
   "outputs": [
    {
     "data": {
      "text/plain": [
       "0.7359766636380405"
      ]
     },
     "execution_count": 180,
     "metadata": {},
     "output_type": "execute_result"
    }
   ],
   "source": [
    "# percentage of data reported as fit\n",
    "\n",
    "df[df['fit'] == 'fit'].shape[0] / df.shape[0]"
   ]
  },
  {
   "cell_type": "code",
   "execution_count": null,
   "id": "a11f0e42-2dff-47df-aca7-6f1cd2fd48b0",
   "metadata": {},
   "outputs": [],
   "source": []
  }
 ],
 "metadata": {
  "kernelspec": {
   "display_name": "Python 3 (ipykernel)",
   "language": "python",
   "name": "python3"
  },
  "language_info": {
   "codemirror_mode": {
    "name": "ipython",
    "version": 3
   },
   "file_extension": ".py",
   "mimetype": "text/x-python",
   "name": "python",
   "nbconvert_exporter": "python",
   "pygments_lexer": "ipython3",
   "version": "3.9.2"
  }
 },
 "nbformat": 4,
 "nbformat_minor": 5
}
